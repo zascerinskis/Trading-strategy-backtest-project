{
 "cells": [
  {
   "cell_type": "code",
   "execution_count": 4,
   "metadata": {},
   "outputs": [],
   "source": [
    "from pandas.io.json import json_normalize \n",
    "import requests, json \n",
    "import pandas as pd\n",
    "import time\n",
    "from datetime import datetime \n",
    "\n"
   ]
  },
  {
   "cell_type": "code",
   "execution_count": 25,
   "metadata": {},
   "outputs": [],
   "source": [
    "# This function gathers Bitcoin price history from Bitmex API, only 1m, 5m, 1h and 1d timeframes are aivable\n",
    "# End date format is yyyy-mm-dd, but function will gather more data because API gives data with bins size 750\n",
    "\n",
    "def getDataBitmex(binSize,end_date):\n",
    "    ' Gather data from Bitmex API, binSize = \"1m\" ,\"5m\", \"1h\" or \"1d\", End date format yyyy-mm-dd'\n",
    "    \n",
    "    datastart=requests.get(f'https://www.bitmex.com/api/v1/trade/bucketed?binSize={binSize}&partial=false&symbol=XBTUSD&count=750&reverse=true').json()\n",
    "    time_object=datastart[-1]['timestamp']\n",
    "    del datastart[-1]\n",
    "    while True:\n",
    "        time.sleep(1.05)\n",
    "        addresults=requests.get(f'https://www.bitmex.com/api/v1/trade/bucketed?binSize={binSize}&partial=false&symbol=XBTUSD&count=750&reverse=true&endTime={time_object}').json()\n",
    "        datastart.extend(addresults)\n",
    "        del datastart[-1]\n",
    "        time_object=datastart[-1]['timestamp']\n",
    "        print(time_object)\n",
    "        if datetime.strptime(time_object[:10],'%Y-%m-%d')<datetime.strptime(end_date,'%Y-%m-%d'):\n",
    "            break\n",
    "    return datastart"
   ]
  },
  {
   "cell_type": "code",
   "execution_count": 26,
   "metadata": {},
   "outputs": [
    {
     "name": "stdout",
     "output_type": "stream",
     "text": [
      "2019-10-15T15:25:00.000Z\n",
      "2019-10-13T01:05:00.000Z\n",
      "2019-10-10T10:45:00.000Z\n",
      "2019-10-07T20:25:00.000Z\n"
     ]
    }
   ],
   "source": [
    "# choose time frame and end date\n",
    "price_history=getDataBitmex('5m','2019-10-10')"
   ]
  },
  {
   "cell_type": "code",
   "execution_count": 19,
   "metadata": {},
   "outputs": [],
   "source": [
    "#save results from json to pandas dataframe\n",
    "btc5m=json_normalize(price_history)"
   ]
  },
  {
   "cell_type": "code",
   "execution_count": 20,
   "metadata": {},
   "outputs": [
    {
     "data": {
      "text/html": [
       "<div>\n",
       "<style scoped>\n",
       "    .dataframe tbody tr th:only-of-type {\n",
       "        vertical-align: middle;\n",
       "    }\n",
       "\n",
       "    .dataframe tbody tr th {\n",
       "        vertical-align: top;\n",
       "    }\n",
       "\n",
       "    .dataframe thead th {\n",
       "        text-align: right;\n",
       "    }\n",
       "</style>\n",
       "<table border=\"1\" class=\"dataframe\">\n",
       "  <thead>\n",
       "    <tr style=\"text-align: right;\">\n",
       "      <th></th>\n",
       "      <th>close</th>\n",
       "      <th>foreignNotional</th>\n",
       "      <th>high</th>\n",
       "      <th>homeNotional</th>\n",
       "      <th>lastSize</th>\n",
       "      <th>low</th>\n",
       "      <th>open</th>\n",
       "      <th>symbol</th>\n",
       "      <th>timestamp</th>\n",
       "      <th>trades</th>\n",
       "      <th>turnover</th>\n",
       "      <th>volume</th>\n",
       "      <th>vwap</th>\n",
       "    </tr>\n",
       "  </thead>\n",
       "  <tbody>\n",
       "    <tr>\n",
       "      <th>0</th>\n",
       "      <td>8258.0</td>\n",
       "      <td>61325703</td>\n",
       "      <td>8285.0</td>\n",
       "      <td>7418.201397</td>\n",
       "      <td>300</td>\n",
       "      <td>8243.0</td>\n",
       "      <td>8243.5</td>\n",
       "      <td>XBTUSD</td>\n",
       "      <td>2019-10-20T20:05:00.000Z</td>\n",
       "      <td>12143</td>\n",
       "      <td>741820139689</td>\n",
       "      <td>61325703</td>\n",
       "      <td>8267.1958</td>\n",
       "    </tr>\n",
       "    <tr>\n",
       "      <th>1</th>\n",
       "      <td>8243.5</td>\n",
       "      <td>15316975</td>\n",
       "      <td>8245.0</td>\n",
       "      <td>1858.333280</td>\n",
       "      <td>2500</td>\n",
       "      <td>8234.5</td>\n",
       "      <td>8235.0</td>\n",
       "      <td>XBTUSD</td>\n",
       "      <td>2019-10-20T20:00:00.000Z</td>\n",
       "      <td>3658</td>\n",
       "      <td>185833328033</td>\n",
       "      <td>15316975</td>\n",
       "      <td>8242.6640</td>\n",
       "    </tr>\n",
       "    <tr>\n",
       "      <th>2</th>\n",
       "      <td>8235.0</td>\n",
       "      <td>9040543</td>\n",
       "      <td>8236.0</td>\n",
       "      <td>1098.877527</td>\n",
       "      <td>1030</td>\n",
       "      <td>8220.5</td>\n",
       "      <td>8223.5</td>\n",
       "      <td>XBTUSD</td>\n",
       "      <td>2019-10-20T19:55:00.000Z</td>\n",
       "      <td>2393</td>\n",
       "      <td>109887752740</td>\n",
       "      <td>9040543</td>\n",
       "      <td>8227.7440</td>\n",
       "    </tr>\n",
       "    <tr>\n",
       "      <th>3</th>\n",
       "      <td>8223.5</td>\n",
       "      <td>20392501</td>\n",
       "      <td>8243.5</td>\n",
       "      <td>2478.390535</td>\n",
       "      <td>137</td>\n",
       "      <td>8217.0</td>\n",
       "      <td>8240.0</td>\n",
       "      <td>XBTUSD</td>\n",
       "      <td>2019-10-20T19:50:00.000Z</td>\n",
       "      <td>4749</td>\n",
       "      <td>247839053488</td>\n",
       "      <td>20392501</td>\n",
       "      <td>8228.4210</td>\n",
       "    </tr>\n",
       "    <tr>\n",
       "      <th>4</th>\n",
       "      <td>8240.0</td>\n",
       "      <td>20359725</td>\n",
       "      <td>8240.0</td>\n",
       "      <td>2473.725501</td>\n",
       "      <td>17581</td>\n",
       "      <td>8216.0</td>\n",
       "      <td>8216.5</td>\n",
       "      <td>XBTUSD</td>\n",
       "      <td>2019-10-20T19:45:00.000Z</td>\n",
       "      <td>4787</td>\n",
       "      <td>247372550117</td>\n",
       "      <td>20359725</td>\n",
       "      <td>8230.4527</td>\n",
       "    </tr>\n",
       "  </tbody>\n",
       "</table>\n",
       "</div>"
      ],
      "text/plain": [
       "    close  foreignNotional    high  homeNotional  lastSize     low    open  \\\n",
       "0  8258.0         61325703  8285.0   7418.201397       300  8243.0  8243.5   \n",
       "1  8243.5         15316975  8245.0   1858.333280      2500  8234.5  8235.0   \n",
       "2  8235.0          9040543  8236.0   1098.877527      1030  8220.5  8223.5   \n",
       "3  8223.5         20392501  8243.5   2478.390535       137  8217.0  8240.0   \n",
       "4  8240.0         20359725  8240.0   2473.725501     17581  8216.0  8216.5   \n",
       "\n",
       "   symbol                 timestamp  trades      turnover    volume       vwap  \n",
       "0  XBTUSD  2019-10-20T20:05:00.000Z   12143  741820139689  61325703  8267.1958  \n",
       "1  XBTUSD  2019-10-20T20:00:00.000Z    3658  185833328033  15316975  8242.6640  \n",
       "2  XBTUSD  2019-10-20T19:55:00.000Z    2393  109887752740   9040543  8227.7440  \n",
       "3  XBTUSD  2019-10-20T19:50:00.000Z    4749  247839053488  20392501  8228.4210  \n",
       "4  XBTUSD  2019-10-20T19:45:00.000Z    4787  247372550117  20359725  8230.4527  "
      ]
     },
     "execution_count": 20,
     "metadata": {},
     "output_type": "execute_result"
    }
   ],
   "source": [
    "btc5m.head()"
   ]
  },
  {
   "cell_type": "code",
   "execution_count": 22,
   "metadata": {},
   "outputs": [],
   "source": [
    "# change timestamp to index and leave only neccessary columns, this thay only high, low and close are needed\n",
    "btc5m.index=btc5m['timestamp']\n",
    "btc5m=btc5m[['high','low','close']]"
   ]
  },
  {
   "cell_type": "code",
   "execution_count": 24,
   "metadata": {},
   "outputs": [
    {
     "data": {
      "text/html": [
       "<div>\n",
       "<style scoped>\n",
       "    .dataframe tbody tr th:only-of-type {\n",
       "        vertical-align: middle;\n",
       "    }\n",
       "\n",
       "    .dataframe tbody tr th {\n",
       "        vertical-align: top;\n",
       "    }\n",
       "\n",
       "    .dataframe thead th {\n",
       "        text-align: right;\n",
       "    }\n",
       "</style>\n",
       "<table border=\"1\" class=\"dataframe\">\n",
       "  <thead>\n",
       "    <tr style=\"text-align: right;\">\n",
       "      <th></th>\n",
       "      <th>high</th>\n",
       "      <th>low</th>\n",
       "      <th>close</th>\n",
       "    </tr>\n",
       "    <tr>\n",
       "      <th>timestamp</th>\n",
       "      <th></th>\n",
       "      <th></th>\n",
       "      <th></th>\n",
       "    </tr>\n",
       "  </thead>\n",
       "  <tbody>\n",
       "    <tr>\n",
       "      <th>2019-10-20T20:05:00.000Z</th>\n",
       "      <td>8285.0</td>\n",
       "      <td>8243.0</td>\n",
       "      <td>8258.0</td>\n",
       "    </tr>\n",
       "    <tr>\n",
       "      <th>2019-10-20T20:00:00.000Z</th>\n",
       "      <td>8245.0</td>\n",
       "      <td>8234.5</td>\n",
       "      <td>8243.5</td>\n",
       "    </tr>\n",
       "    <tr>\n",
       "      <th>2019-10-20T19:55:00.000Z</th>\n",
       "      <td>8236.0</td>\n",
       "      <td>8220.5</td>\n",
       "      <td>8235.0</td>\n",
       "    </tr>\n",
       "    <tr>\n",
       "      <th>2019-10-20T19:50:00.000Z</th>\n",
       "      <td>8243.5</td>\n",
       "      <td>8217.0</td>\n",
       "      <td>8223.5</td>\n",
       "    </tr>\n",
       "    <tr>\n",
       "      <th>2019-10-20T19:45:00.000Z</th>\n",
       "      <td>8240.0</td>\n",
       "      <td>8216.0</td>\n",
       "      <td>8240.0</td>\n",
       "    </tr>\n",
       "  </tbody>\n",
       "</table>\n",
       "</div>"
      ],
      "text/plain": [
       "                            high     low   close\n",
       "timestamp                                       \n",
       "2019-10-20T20:05:00.000Z  8285.0  8243.0  8258.0\n",
       "2019-10-20T20:00:00.000Z  8245.0  8234.5  8243.5\n",
       "2019-10-20T19:55:00.000Z  8236.0  8220.5  8235.0\n",
       "2019-10-20T19:50:00.000Z  8243.5  8217.0  8223.5\n",
       "2019-10-20T19:45:00.000Z  8240.0  8216.0  8240.0"
      ]
     },
     "execution_count": 24,
     "metadata": {},
     "output_type": "execute_result"
    }
   ],
   "source": [
    "btc5m.head()"
   ]
  },
  {
   "cell_type": "code",
   "execution_count": 8,
   "metadata": {},
   "outputs": [],
   "source": [
    "#save data\n",
    "btc5m.to_csv('BTC_history_5m.csv')"
   ]
  },
  {
   "cell_type": "code",
   "execution_count": null,
   "metadata": {},
   "outputs": [],
   "source": []
  }
 ],
 "metadata": {
  "kernelspec": {
   "display_name": "Python 3",
   "language": "python",
   "name": "python3"
  },
  "language_info": {
   "codemirror_mode": {
    "name": "ipython",
    "version": 3
   },
   "file_extension": ".py",
   "mimetype": "text/x-python",
   "name": "python",
   "nbconvert_exporter": "python",
   "pygments_lexer": "ipython3",
   "version": "3.7.3"
  }
 },
 "nbformat": 4,
 "nbformat_minor": 2
}
